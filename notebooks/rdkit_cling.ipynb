{
 "cells": [
  {
   "cell_type": "markdown",
   "metadata": {},
   "source": [
    "# RDKit C++ api basic examples with cling and xeus-cling kernel\n",
    "\n",
    "\n",
    "\n",
    "- CERN's cling C++ interpreter https://github.com/root-project/cling\n",
    "- QuantStack xeus-cling jupyter notebook kernel https://github.com/QuantStack/xeus-cling"
   ]
  },
  {
   "cell_type": "markdown",
   "metadata": {},
   "source": [
    "## Add RDKit  to include and library paths"
   ]
  },
  {
   "cell_type": "code",
   "execution_count": null,
   "metadata": {},
   "outputs": [],
   "source": [
    "#pragma cling add_library_path(\"/rdkit/lib/\")\n",
    "#pragma cling add_include_path(\"/rdkit/Code/\")\n",
    "#pragma cling add_include_path(\"/rdkit/External/INCHI-API/\")"
   ]
  },
  {
   "cell_type": "markdown",
   "metadata": {},
   "source": [
    "## Load methotrexate from SMILES and count its atoms\n"
   ]
  },
  {
   "cell_type": "code",
   "execution_count": null,
   "metadata": {},
   "outputs": [],
   "source": [
    "#include <GraphMol/GraphMol.h>\n",
    "#include <GraphMol/SmilesParse/SmilesParse.h>\n",
    "\n",
    "#pragma cling load(\"libRDKitSmilesParse.so\")\n",
    "#pragma cling load(\"libRDKitGraphMol.so\")\n",
    "\n",
    "std::string methotrexate_smi = \"CN(CC1=CN=C2C(=N1)C(=NC(=N2)N)N)C3=CC=C(C=C3)C(=O)NC(CCC(=O)O)C(=O)O\";\n",
    "RDKit::ROMol *romol = RDKit::SmilesToMol(methotrexate_smi);\n",
    "std::cout << romol->getNumAtoms() << \" atoms\" << std::endl;"
   ]
  },
  {
   "cell_type": "markdown",
   "metadata": {},
   "source": [
    "## Calc some properties"
   ]
  },
  {
   "cell_type": "code",
   "execution_count": null,
   "metadata": {},
   "outputs": [],
   "source": [
    "#include <GraphMol/Descriptors/MolDescriptors.h>\n",
    "#pragma cling load(\"libRDKitDescriptors.so\")\n",
    "\n",
    "double logp = RDKit::Descriptors::calcClogP(*romol);\n",
    "std::cout << \"logP: \" << logp << std::endl;\n",
    "\n",
    "double e_mwt = RDKit::Descriptors::calcExactMW(*romol);\n",
    "std::cout << \"molecular weight: \" << e_mwt << std::endl;\n"
   ]
  },
  {
   "cell_type": "markdown",
   "metadata": {},
   "source": [
    "# Calc inchi and inchi key"
   ]
  },
  {
   "cell_type": "code",
   "execution_count": null,
   "metadata": {},
   "outputs": [],
   "source": [
    "#include \"inchi.h\"\n",
    "\n",
    "#pragma cling load(\"libRDKitInchi.so\")\n",
    "#pragma cling load(\"libRDKitRDInchiLib.so\")\n",
    "\n",
    "RDKit::ExtraInchiReturnValues tmp;\n",
    "std::string inchi = RDKit::MolToInchi(*romol, tmp);\n",
    "std::cout << \"InChI: \" << inchi << std::endl;\n",
    "\n",
    "std::string key = RDKit::InchiToInchiKey(inchi);\n",
    "std::cout << \"InChIKey: \" << key << std::endl;\n"
   ]
  },
  {
   "cell_type": "markdown",
   "metadata": {},
   "source": [
    "## 2D coord generation and depiction"
   ]
  },
  {
   "cell_type": "code",
   "execution_count": null,
   "metadata": {},
   "outputs": [],
   "source": [
    "#include <GraphMol/MolDraw2D/MolDraw2DSVG.h>\n",
    "#include <GraphMol/Depictor/RDDepictor.h>\n",
    "#include <fstream>\n",
    "#include <string>\n",
    "#include \"xcpp/xdisplay.hpp\"\n",
    "\n",
    "#pragma cling load(\"libRDKitMolDraw2D.so\")\n",
    "#pragma cling load(\"libRDKitDepictor.so\")\n",
    "\n",
    "namespace ht\n",
    "{\n",
    "    struct html\n",
    "    {   \n",
    "        inline html(const std::string& content)\n",
    "        {\n",
    "            m_content = content;\n",
    "        }\n",
    "        std::string m_content;\n",
    "    };\n",
    "\n",
    "    xeus::xjson mime_bundle_repr(const html& a)\n",
    "    {\n",
    "        auto bundle = xeus::xjson::object();\n",
    "        bundle[\"text/html\"] = a.m_content;\n",
    "        return bundle;\n",
    "    }\n",
    "}"
   ]
  },
  {
   "cell_type": "code",
   "execution_count": null,
   "metadata": {},
   "outputs": [],
   "source": [
    "// generate the 2D coordinates:\n",
    "RDDepict::compute2DCoords(*romol);\n",
    "\n",
    "// // generate SVG as string\n",
    "RDKit::MolDraw2DSVG drawer(400, 400);\n",
    "drawer.drawMolecule(*romol);\n",
    "drawer.finishDrawing();\n",
    "std::string svgs = drawer.getDrawingText();\n",
    "\n",
    "// show the molecule\n",
    "ht::html mol_svg(svgs);\n",
    "mol_svg"
   ]
  },
  {
   "cell_type": "markdown",
   "metadata": {},
   "source": [
    "## Morgan fingerprint and Tanimoto similarity"
   ]
  },
  {
   "cell_type": "code",
   "execution_count": null,
   "metadata": {},
   "outputs": [],
   "source": [
    "#include <GraphMol/Fingerprints/Fingerprints.h>\n",
    "#include <GraphMol/Fingerprints/MorganFingerprints.h>\n",
    "#include <DataStructs/ExplicitBitVect.h>\n",
    "#include <DataStructs/BitOps.h>\n",
    "\n",
    "#pragma cling load(\"libRDKitFingerprints.so\")\n",
    "#pragma cling load(\"libRDKitDataStructs.so\")\n",
    "\n",
    "\n",
    "std::string aspirin_str = \"CC(=O)OC1=CC=CC=C1C(=O)O\";\n",
    "std::string paracetamol_str = \"CC(=O)NC1=CC=C(C=C1)O\";\n",
    "\n",
    "RDKit::ROMol *ro_aspirin = RDKit::SmilesToMol(aspirin_str);\n",
    "RDKit::ROMol *ro_para = RDKit::SmilesToMol(paracetamol_str);\n",
    "\n",
    "// unhashed fps\n",
    "RDKit::SparseIntVect<boost::uint32_t> *fp_aspirin, *fp_paracetamol;\n",
    "\n",
    "fp_aspirin = RDKit::MorganFingerprints::getFingerprint(*ro_aspirin, 2);\n",
    "fp_paracetamol = RDKit::MorganFingerprints::getFingerprint(*ro_para, 2);\n",
    "\n",
    "double tani = TanimotoSimilarity(*fp_aspirin, *fp_paracetamol);\n",
    "std::cout << \"Similarity between aspirin and paracetamol: \" << tani << std::endl;\n"
   ]
  },
  {
   "cell_type": "markdown",
   "metadata": {},
   "source": [
    "## Substructure search"
   ]
  },
  {
   "cell_type": "code",
   "execution_count": null,
   "metadata": {},
   "outputs": [],
   "source": [
    "#include <GraphMol/Substruct/SubstructUtils.h>\n",
    "#pragma cling load(\"libRDKitSubstructMatch.so\")\n",
    "\n",
    "std::shared_ptr<RDKit::RWMol> mol_ss(RDKit::SmilesToMol(\"CC[C@H](F)Cl\"));\n",
    "std::shared_ptr<RDKit::ROMol> patt(RDKit::SmartsToMol(\"C[C@H](F)Cl\"));\n",
    "\n",
    "RDKit::MatchVectType res;\n",
    "\n",
    "if( RDKit::SubstructMatch(*mol_ss , *patt , res) ) {\n",
    "    std::cout << \"SMARTS 1 match\" << std::endl;\n",
    "  } else {\n",
    "    std::cout << \"Not SMARTS 1 match\" << std::endl;\n",
    "}"
   ]
  },
  {
   "cell_type": "code",
   "execution_count": null,
   "metadata": {},
   "outputs": [],
   "source": []
  }
 ],
 "metadata": {
  "kernelspec": {
   "display_name": "C++14",
   "language": "C++14",
   "name": "xeus-cling-cpp14"
  },
  "language_info": {
   "codemirror_mode": "text/x-c++src",
   "file_extension": ".cpp",
   "mimetype": "text/x-c++src",
   "name": "c++",
   "version": "-std=c++14"
  }
 },
 "nbformat": 4,
 "nbformat_minor": 2
}
